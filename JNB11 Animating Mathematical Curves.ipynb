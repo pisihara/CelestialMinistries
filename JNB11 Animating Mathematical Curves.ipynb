{
 "cells": [
  {
   "cell_type": "markdown",
   "metadata": {},
   "source": [
    "In this lab, we will explore animation of parametric curves."
   ]
  },
  {
   "cell_type": "markdown",
   "metadata": {},
   "source": [
    "<h3> STEP 1. Import Libraries </h3>\n",
    "First we will import libraries with built-in Python functions.\n",
    "Click on the cell with code, and hit shift+enter simultaneously to execute.\n",
    "A number appears in the box to the left of the cell [ ] after it has been executed."
   ]
  },
  {
   "cell_type": "code",
   "execution_count": null,
   "metadata": {},
   "outputs": [],
   "source": [
    "import numpy as np\n",
    "import pandas as pd\n",
    "import matplotlib.pyplot as plt\n",
    "import matplotlib.animation as animation\n",
    "from matplotlib.animation import FuncAnimation\n",
    "%matplotlib notebook"
   ]
  },
  {
   "cell_type": "markdown",
   "metadata": {},
   "source": [
    "<h3>STEP 2. Tracing a Figure Eight</h3>\n",
    "The parametric curve $x(t)=\\cos(t), y(t)=\\frac{1}{2} \\sin(2t)$, $(-\\frac{\\pi}{2}\\le t \\le \\frac{3}{2}\\pi$) is a figure eight."
   ]
  },
  {
   "cell_type": "code",
   "execution_count": null,
   "metadata": {},
   "outputs": [],
   "source": [
    "%matplotlib notebook\n",
    "import numpy as np\n",
    "import matplotlib.pyplot as plt\n",
    "import matplotlib.animation as animation\n",
    "\n",
    "\n",
    "#-----Set Up Plot -----\n",
    "fig= plt.figure(figsize=(5,3))\n",
    "plt.xlim(-1.5,1.5)\n",
    "plt.ylim(-1,1)\n",
    "##-----PARAMETRIC DEFINITION OF FIGURE 8 CURVE------\n",
    "t = np.arange(0, 2*np.pi, 0.001)\n",
    "xt=np.cos(t)      \n",
    "yt=.5*np.sin(2*t)\n",
    "plt.gca().plot(xt, yt)\n",
    "\n",
    "def init():\n",
    "    redDot, = plt.gca().plot([0], [0], 'ro') #starting position of dot\n",
    "    return redDot,\n",
    "\n",
    "def animate(i):\n",
    "    redDot,= plt.gca().plot([np.cos(i)], [.5*np.sin(2*i)],'ro',ms=2,alpha=1)\n",
    "    return redDot,\n",
    "\n",
    "# create animation using the animate() function\n",
    "ani = animation.FuncAnimation(fig, animate, frames=np.arange(0,2*np.pi,.05), init_func=init, interval=5, blit=True, repeat=False)\n",
    "\n",
    "plt.show()\n",
    "\n"
   ]
  },
  {
   "cell_type": "markdown",
   "metadata": {},
   "source": [
    "<h3> STEP 3. Tracing a Butterfly Curve</h3>\n",
    "Credit:  Temple H. Fay of University of Southern Mississippi in 1989 https://en.wikipedia.org/wiki/Butterfly_curve_(transcendental)\n"
   ]
  },
  {
   "cell_type": "code",
   "execution_count": null,
   "metadata": {},
   "outputs": [],
   "source": [
    "%matplotlib notebook\n",
    "import numpy as np\n",
    "import matplotlib.pyplot as plt\n",
    "import matplotlib.animation as animation\n",
    "\n",
    "#-----Set Up Plot -----\n",
    "fig= plt.figure(figsize=(5,3))\n",
    "plt.xlim(-4,4)\n",
    "plt.ylim(-3,5)\n",
    "##-----PARAMETRIC DEFINITION OF Butterfly CURVE------\n",
    "t = np.arange(0, 12*np.pi, 0.1)\n",
    "xt=np.sin(t)*(np.exp(np.cos(t))-2*np.cos(4*t)-(np.sin(t/12))**5)      \n",
    "yt=np.cos(t)*(np.exp(np.cos(t))- 2*np.cos(4*t)-(np.sin(t/12))**5) \n",
    "plt.gca().plot(xt, yt)\n",
    "\n",
    "def init():\n",
    "    redDot, = plt.gca().plot([0], [0], 'ro') #starting position of dot\n",
    "    return redDot,\n",
    "\n",
    "def animate(i):\n",
    "    redDot,= plt.gca().plot([np.sin(i)*(np.exp(np.cos(i))-2*np.cos(4*i)-(np.sin(i/12))**5) ], [np.cos(i)*(np.exp(np.cos(i))- 2*np.cos(4*i)-(np.sin(i/12))**5) ],'ro',ms=2,alpha=1)\n",
    "    return redDot,\n",
    "\n",
    "# create animation using the animate() function\n",
    "ani = animation.FuncAnimation(fig, animate, frames=np.arange(0,12*np.pi,.01), init_func=init, interval=5, blit=True, repeat=False)\n",
    "\n",
    "plt.show()"
   ]
  },
  {
   "cell_type": "markdown",
   "metadata": {},
   "source": [
    "<h3>STEP FOUR. Tracing a Heart</h3> "
   ]
  },
  {
   "cell_type": "code",
   "execution_count": null,
   "metadata": {},
   "outputs": [],
   "source": [
    "%matplotlib notebook\n",
    "import numpy as np\n",
    "import matplotlib.pyplot as plt\n",
    "import matplotlib.animation as animation\n",
    "\n",
    "#-----Set Up Plot -----\n",
    "fig= plt.figure(figsize=(5,3))\n",
    "plt.xlim(-4,4)\n",
    "plt.ylim(-6,2)\n",
    "##-----PARAMETRIC DEFINITION OF A HEART------\n",
    "t = np.arange(0, 12*np.pi, 0.1)\n",
    "xt=np.cos(t)*(3.5-1.5*abs(np.cos(t))*np.sqrt(1.3+abs(np.sin(t)))+np.cos(2*t)-3*np.sin(t)+.7*np.cos(12.2*t))     \n",
    "yt=np.sin(t)*(3.5-1.5*abs(np.cos(t))*np.sqrt(1.3+abs(np.sin(t)))+np.cos(2*t)-3*np.sin(t)+.7*np.cos(12.2*t))   \n",
    "plt.gca().plot(xt, yt)\n",
    "\n",
    "def init():\n",
    "    redDot, = plt.gca().plot([0], [0], 'ro') #starting position of dot\n",
    "    return redDot,\n",
    "\n",
    "def animate(i):\n",
    "    redDot,= plt.gca().plot([np.cos(i)*(3.5-1.5*abs(np.cos(i))*np.sqrt(1.3+abs(np.sin(i)))+np.cos(2*i)-3*np.sin(i)+.7*np.cos(12.2*i))   ], [np.sin(i)*((3.5-1.5*abs(np.cos(i))*np.sqrt(1.3+abs(np.sin(i)))+np.cos(2*i)-3*np.sin(i)+.7*np.cos(12.2*i))  ) ],'ro',ms=2,alpha=1)\n",
    "    return redDot,\n",
    "\n",
    "# create animation using the animate() function\n",
    "ani = animation.FuncAnimation(fig, animate, frames=np.arange(0,12*np.pi,.01), init_func=init, interval=5, blit=True, repeat=False)\n",
    "\n",
    "plt.show()"
   ]
  },
  {
   "cell_type": "markdown",
   "metadata": {},
   "source": [
    "<h3>STEP 5. Editing the Code</h3>\n",
    "For a simple circle, we can edit the above code as follows:\n",
    "<ul>\n",
    "<li> line 7: fig= plt.figure(figsize=(5,5)) </li>\n",
    "<li> line 8: plt.xlim(-2,2)</li> \n",
    "<li> line 9:  plt.ylim(-2,2)</li>\n",
    "<li> line 11: t = np.arange(0, 2*np.pi, 0.1)</li>\n",
    "<li> line 12: xt=np.cos(t)</li>    \n",
    "<li> line 13: yt=np.sin(t)</li>\n",
    "<li> line 17 redDot, = plt.gca().plot([1], [0], 'ro') #starting position of dot\n",
    "<li> line 21: redDot,= plt.gca().plot([np.cos(i)],[np.sin(i)],,'ro',ms=2,alpha=1))</li>\n",
    "<li>line 25: ani = animation.FuncAnimation(fig, animate, frames=np.arange(0,2*np.pi,.01), init_func=init, interval=5, blit=True, repeat=False)</li>\n",
    "    </ul>\n",
    "  \n",
    "Make these changes below and see if you get the circle.    \n"
   ]
  },
  {
   "cell_type": "code",
   "execution_count": null,
   "metadata": {},
   "outputs": [],
   "source": [
    "%matplotlib notebook\n",
    "import numpy as np\n",
    "import matplotlib.pyplot as plt\n",
    "import matplotlib.animation as animation\n",
    "\n",
    "#-----Set Up Plot -----\n",
    "fig= plt.figure(figsize=(5,3))\n",
    "plt.xlim(-4,4)\n",
    "plt.ylim(-6,2)\n",
    "##-----PARAMETRIC DEFINITION OF YOUR CURVE------\n",
    "t = np.arange(0, 12*np.pi, 0.1)\n",
    "xt=np.cos(t)*(3.5-1.5*abs(np.cos(t))*np.sqrt(1.3+abs(np.sin(t)))+np.cos(2*t)-3*np.sin(t)+.7*np.cos(12.2*t))     \n",
    "yt=np.sin(t)*(3.5-1.5*abs(np.cos(t))*np.sqrt(1.3+abs(np.sin(t)))+np.cos(2*t)-3*np.sin(t)+.7*np.cos(12.2*t))   \n",
    "plt.gca().plot(xt, yt)\n",
    "\n",
    "def init():\n",
    "    redDot, = plt.gca().plot([0], [0], 'ro') #starting position of dot\n",
    "    return redDot,\n",
    "\n",
    "def animate(i):\n",
    "    redDot,= plt.gca().plot([np.cos(i)*(3.5-1.5*abs(np.cos(i))*np.sqrt(1.3+abs(np.sin(i)))+np.cos(2*i)-3*np.sin(i)+.7*np.cos(12.2*i))   ], [np.sin(i)*((3.5-1.5*abs(np.cos(i))*np.sqrt(1.3+abs(np.sin(i)))+np.cos(2*i)-3*np.sin(i)+.7*np.cos(12.2*i))  ) ],'ro',ms=2,alpha=1)\n",
    "    return redDot,\n",
    "\n",
    "# create animation using the animate() function\n",
    "ani = animation.FuncAnimation(fig, animate, frames=np.arange(0,12*np.pi,.01), init_func=init, interval=5, blit=True, repeat=False)\n",
    "\n",
    "plt.show()"
   ]
  },
  {
   "cell_type": "markdown",
   "metadata": {},
   "source": [
    "If you have time, you can try creating your own pattern by editing the code for the circle."
   ]
  },
  {
   "cell_type": "code",
   "execution_count": null,
   "metadata": {},
   "outputs": [],
   "source": []
  },
  {
   "cell_type": "markdown",
   "metadata": {},
   "source": [
    "<h4>Discussion</h4>"
   ]
  },
  {
   "cell_type": "markdown",
   "metadata": {},
   "source": [
    "We can see how knowledge of math can be used to create more complicated or beautiful patterns and shapes.  \n",
    "\n",
    "a) How deep is God's knowledge to be able to create all the patterns we see in the universe?\n",
    "\n",
    "b) The Bible says \"I praise You for I am fearfully and wonderfully made; Your works are wonderful, I know that full well.\" (Psalm 139:14)  How do you feel about being created by the God who created the universe?\n",
    "\n"
   ]
  }
 ],
 "metadata": {
  "kernelspec": {
   "display_name": "Python 3",
   "language": "python",
   "name": "python3"
  },
  "language_info": {
   "codemirror_mode": {
    "name": "ipython",
    "version": 3
   },
   "file_extension": ".py",
   "mimetype": "text/x-python",
   "name": "python",
   "nbconvert_exporter": "python",
   "pygments_lexer": "ipython3",
   "version": "3.6.4"
  }
 },
 "nbformat": 4,
 "nbformat_minor": 2
}
